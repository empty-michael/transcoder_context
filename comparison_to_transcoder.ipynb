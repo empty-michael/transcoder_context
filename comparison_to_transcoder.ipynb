{
 "cells": [
  {
   "cell_type": "markdown",
   "metadata": {},
   "source": [
    "# Applying Computation in Superposition to transcoders"
   ]
  },
  {
   "cell_type": "markdown",
   "metadata": {},
   "source": [
    "# Setup"
   ]
  },
  {
   "cell_type": "code",
   "execution_count": 1,
   "metadata": {},
   "outputs": [],
   "source": [
    "import sys\n",
    "import os\n",
    "\n",
    "sys.path.insert(0, os.path.abspath('../transcoder_circuits/'))"
   ]
  },
  {
   "cell_type": "code",
   "execution_count": 2,
   "metadata": {},
   "outputs": [],
   "source": [
    "%load_ext autoreload\n",
    "%autoreload 2"
   ]
  },
  {
   "cell_type": "code",
   "execution_count": 3,
   "metadata": {},
   "outputs": [],
   "source": [
    "from transcoder_circuits.circuit_analysis import *\n",
    "from transcoder_circuits.feature_dashboards import *\n",
    "from transcoder_circuits.replacement_ctx import *\n",
    "\n",
    "from sae_training.sparse_autoencoder import SparseAutoencoder\n",
    "from utils import tokenize_and_concatenate"
   ]
  },
  {
   "cell_type": "code",
   "execution_count": 4,
   "metadata": {},
   "outputs": [],
   "source": [
    "import torch\n",
    "import numpy as np\n",
    "from einops import *\n",
    "import matplotlib.pyplot as plt\n",
    "import plotly.express as px\n",
    "import pandas as pd\n",
    "\n",
    "if torch.cuda.is_available():\n",
    "    device = 'cuda'\n",
    "elif torch.backends.mps.is_available():\n",
    "    device = 'mps'\n",
    "else:\n",
    "    device = 'cpu'"
   ]
  },
  {
   "cell_type": "markdown",
   "metadata": {},
   "source": [
    "## Load model & data"
   ]
  },
  {
   "cell_type": "code",
   "execution_count": 59,
   "metadata": {},
   "outputs": [
    {
     "name": "stdout",
     "output_type": "stream",
     "text": [
      "Loaded pretrained model gpt2-small into HookedTransformer\n",
      "Moving model to device:  mps\n"
     ]
    }
   ],
   "source": [
    "from transformer_lens import HookedTransformer, utils\n",
    "model = HookedTransformer.from_pretrained('gpt2-small').to(device)"
   ]
  },
  {
   "cell_type": "code",
   "execution_count": 60,
   "metadata": {},
   "outputs": [
    {
     "data": {
      "text/plain": [
       "HookedTransformer(\n",
       "  (embed): Embed()\n",
       "  (hook_embed): HookPoint()\n",
       "  (pos_embed): PosEmbed()\n",
       "  (hook_pos_embed): HookPoint()\n",
       "  (blocks): ModuleList(\n",
       "    (0-11): 12 x TransformerBlock(\n",
       "      (ln1): LayerNormPre(\n",
       "        (hook_scale): HookPoint()\n",
       "        (hook_normalized): HookPoint()\n",
       "      )\n",
       "      (ln2): LayerNormPre(\n",
       "        (hook_scale): HookPoint()\n",
       "        (hook_normalized): HookPoint()\n",
       "      )\n",
       "      (attn): Attention(\n",
       "        (hook_k): HookPoint()\n",
       "        (hook_q): HookPoint()\n",
       "        (hook_v): HookPoint()\n",
       "        (hook_z): HookPoint()\n",
       "        (hook_attn_scores): HookPoint()\n",
       "        (hook_pattern): HookPoint()\n",
       "        (hook_result): HookPoint()\n",
       "      )\n",
       "      (mlp): MLP(\n",
       "        (hook_pre): HookPoint()\n",
       "        (hook_post): HookPoint()\n",
       "      )\n",
       "      (hook_attn_in): HookPoint()\n",
       "      (hook_q_input): HookPoint()\n",
       "      (hook_k_input): HookPoint()\n",
       "      (hook_v_input): HookPoint()\n",
       "      (hook_mlp_in): HookPoint()\n",
       "      (hook_attn_out): HookPoint()\n",
       "      (hook_mlp_out): HookPoint()\n",
       "      (hook_resid_pre): HookPoint()\n",
       "      (hook_resid_mid): HookPoint()\n",
       "      (hook_resid_post): HookPoint()\n",
       "    )\n",
       "  )\n",
       "  (ln_final): LayerNormPre(\n",
       "    (hook_scale): HookPoint()\n",
       "    (hook_normalized): HookPoint()\n",
       "  )\n",
       "  (unembed): Unembed()\n",
       ")"
      ]
     },
     "execution_count": 60,
     "metadata": {},
     "output_type": "execute_result"
    }
   ],
   "source": [
    "model"
   ]
  },
  {
   "cell_type": "markdown",
   "metadata": {},
   "source": [
    "# Load transcoder"
   ]
  },
  {
   "cell_type": "code",
   "execution_count": null,
   "metadata": {},
   "outputs": [],
   "source": [
    "transcoder_template = \"../dufensky_transcoders/final_sparse_autoencoder_gpt2-small_blocks.{}.ln2.hook_normalized_24576\"\n",
    "transcoders = []\n",
    "sparsities = []\n",
    "for i in range(12):\n",
    "    transcoders.append(SparseAutoencoder.load_from_pretrained(f\"{transcoder_template.format(i)}.pt\").eval())\n",
    "    sparsities.append(torch.load(f\"{transcoder_template.format(i)}_log_feature_sparsity.pt\"))"
   ]
  },
  {
   "cell_type": "code",
   "execution_count": 7,
   "metadata": {},
   "outputs": [],
   "source": [
    "transcoder_layer = 8\n",
    "transcoder_template = \"../dufensky_transcoders/final_sparse_autoencoder_gpt2-small_blocks.{}.ln2.hook_normalized_24576\"\n",
    "transcoder = SparseAutoencoder.load_from_pretrained(f\"{transcoder_template.format(transcoder_layer)}.pt\").to(device).eval()\n",
    "sparsity = torch.load(f\"{transcoder_template.format(transcoder_layer)}_log_feature_sparsity.pt\")\n",
    "live_features = np.arange(len(sparsity))[utils.to_numpy(sparsity > -4)]"
   ]
  },
  {
   "cell_type": "markdown",
   "metadata": {},
   "source": [
    "# Find transcoder's intermediate vectors\n",
    "For an encoder directions $\\mathbf{e}_i$ with activation $z_i(x)$, we can find directions $\\mathbf{d}_i$ such that $Wx \\approx \\sum_i z_i(x) \\mathbf{d}_i$"
   ]
  },
  {
   "cell_type": "code",
   "execution_count": null,
   "metadata": {},
   "outputs": [],
   "source": [
    "import gc\n",
    "gc.collect()\n",
    "torch.cuda.empty_cache()\n",
    "torch.mps.empty_cache()"
   ]
  },
  {
   "cell_type": "code",
   "execution_count": null,
   "metadata": {},
   "outputs": [],
   "source": [
    "from midcoder import MidcoderConfig, Midcoder\n",
    "\n",
    "config = MidcoderConfig()\n",
    "config.device = device\n",
    "config.batch_size = 64\n",
    "config.steps_per_epoch = 10\n",
    "config.train_tokens = 100_000\n",
    "config.log = False\n",
    "midcoder = Midcoder({'model':model, 'transcoder':transcoder}, transcoder_layer, config)"
   ]
  },
  {
   "cell_type": "code",
   "execution_count": null,
   "metadata": {},
   "outputs": [],
   "source": [
    "midcoder.fit()"
   ]
  },
  {
   "cell_type": "markdown",
   "metadata": {},
   "source": [
    "# Compare decoder features to predicted values"
   ]
  },
  {
   "cell_type": "code",
   "execution_count": null,
   "metadata": {},
   "outputs": [],
   "source": [
    "from midcoder import MidcoderConfig, Midcoder\n",
    "\n",
    "config = MidcoderConfig()\n",
    "config.device = 'mps'\n",
    "config.mid_dim = 'd_mlp'\n",
    "midcoder = Midcoder({'model':model, 'transcoder':transcoder}, transcoder_layer, config)\n",
    "\n",
    "path = '../data/midcoder_layer8_v4_200M_tokens.pt'\n",
    "midcoder.load_weights(path, strict=False)"
   ]
  },
  {
   "cell_type": "code",
   "execution_count": null,
   "metadata": {},
   "outputs": [],
   "source": [
    "feat_ids = midcoder.feat_ids.cpu()"
   ]
  },
  {
   "cell_type": "code",
   "execution_count": null,
   "metadata": {},
   "outputs": [],
   "source": [
    "sparsity_mask = sparsity[feat_ids] > -4\n",
    "\n",
    "x = np.arange(len(sparsity))\n",
    "y = sparsity.sort().values\n",
    "plt.plot(x,y)\n",
    "plt.xlabel('rank')\n",
    "plt.ylabel('Log freq')\n",
    "plt.title('Feature sparsity')"
   ]
  },
  {
   "cell_type": "code",
   "execution_count": null,
   "metadata": {},
   "outputs": [],
   "source": [
    "act_gate_counts = midcoder.gate_act_counts[sparsity_mask]\n",
    "act_gate_mean = midcoder.act_gate_sum[sparsity_mask]/midcoder.act_counts[sparsity_mask].unsqueeze(1)\n",
    "act_gate_mean = act_gate_mean.detach()\n",
    "\n",
    "\n",
    "plt.figure(figsize=(5,4), dpi=150)\n",
    "plt.hist(act_gate_mean[:500].flatten().cpu(), 100)\n",
    "plt.yscale('log')\n",
    "plt.xlabel('Elementwise E[act * gate | act > 0]')\n",
    "plt.ylabel('Counts')\n",
    "plt.title('Distribution of activation*gate averages')"
   ]
  },
  {
   "cell_type": "code",
   "execution_count": null,
   "metadata": {},
   "outputs": [],
   "source": [
    "mid_vector = midcoder.W_mid[feat_ids][sparsity_mask].detach()\n",
    "b_mid = midcoder.b_mid\n",
    "\n",
    "gate_mean = midcoder.gate_act_counts[sparsity_mask].detach() / midcoder.act_counts[sparsity_mask].unsqueeze(1)\n",
    "\n",
    "pre_relu_mean = midcoder.pre_relu_sum.detach() / (midcoder.counts)\n",
    "# mlp_out_mean = midcoder.mlp_out_sum.detach() / (midcoder.counts)\n",
    "# b_out = midcoder.b_dec_out.detach()\n",
    "# b_mid_out = midcoder.b_mid_out.detach()\n",
    "\n",
    "pred_decoder = (act_gate_mean * mid_vector) @ midcoder.W_out\n",
    "decoder = midcoder.W_dec[feat_ids][sparsity_mask].detach()\n",
    "\n"
   ]
  },
  {
   "cell_type": "code",
   "execution_count": null,
   "metadata": {},
   "outputs": [],
   "source": [
    "cos_sims = torch.nn.functional.cosine_similarity(decoder, pred_decoder, dim=1)\n",
    "\n",
    "freq = midcoder.act_counts[sparsity_mask] / midcoder.counts\n",
    "\n",
    "plt.figure(figsize=(8,3.5), dpi=150, layout='tight')\n",
    "plt.subplot(1,2,1)\n",
    "plt.hist(cos_sims.cpu(), 500)\n",
    "plt.yscale('log')\n",
    "plt.xlabel('Cosine Similarity')\n",
    "plt.ylabel('Counts')\n",
    "plt.suptitle('Comparison of decoder and predicted decoder')\n",
    "\n",
    "plt.subplot(1,2,2)\n",
    "# plt.plot(sparsity[sparsity_mask], cos_sims.cpu(), '.', alpha=0.03)\n",
    "plt.plot(freq.cpu(), cos_sims.cpu(), '.', alpha=0.1)\n",
    "plt.xlabel('Activation Frequency')\n",
    "plt.ylabel('Cosine Similarity')\n",
    "plt.xscale('log')\n",
    "# plt.title('Comparison of decoder and predicted decoder')"
   ]
  },
  {
   "cell_type": "code",
   "execution_count": null,
   "metadata": {},
   "outputs": [],
   "source": [
    "mask = sparsity[feat_ids][sparsity_mask] > -2\n",
    "\n",
    "plt.figure(figsize=(9,3.5), dpi=150, layout='tight')\n",
    "plt.subplot(1,2,1)\n",
    "sims = []\n",
    "\n",
    "idxs = range(10)\n",
    "for k in idxs:\n",
    "    dec = decoder[mask][k]\n",
    "    pred = pred_decoder[mask][k]\n",
    "    dec /= dec.norm()\n",
    "    pred /= pred.norm()\n",
    "    sims.append(f'{cos_sims[mask][k].item():.2f}')\n",
    "    plt.plot(dec.cpu(), pred.cpu(),'.', label=f'{cos_sims[mask][k].item():.2f}')\n",
    "vec = np.arange(-0.15, 0.15, 0.01)\n",
    "plt.plot(vec, vec, 'k--')\n",
    "plt.legend(title='Cos Sims', prop={'size':7})\n",
    "plt.ylabel('Predicted decoder')\n",
    "plt.xlabel('Decoder')\n",
    "plt.title('Elementwise comparison')\n",
    "plt.xlim((-0.15,0.15))\n",
    "plt.ylim((-0.15, 0.15))\n",
    "\n",
    "\n",
    "plt.subplot(1,2,2)\n",
    "for k in idxs:\n",
    "    log_counts = torch.log10(act_gate_counts[mask][k] + 1e-1)\n",
    "    plt.hist(log_counts.cpu(), 50, histtype='step')\n",
    "plt.yscale('log')\n",
    "plt.ylabel('')\n",
    "plt.xlabel('Log10( Counts for Act > 0 and Gate = 1)', fontsize=12)\n",
    "plt.title('Distribution of counts')\n",
    "\n",
    "plt.suptitle('High freq features')\n",
    "print(sims)"
   ]
  },
  {
   "cell_type": "code",
   "execution_count": null,
   "metadata": {},
   "outputs": [],
   "source": [
    "mask = (sparsity[feat_ids][sparsity_mask] > -3) & (sparsity[feat_ids][sparsity_mask] < -2.5)\n",
    "\n",
    "plt.figure(figsize=(9,3.5), dpi=150, layout='tight')\n",
    "plt.subplot(1,2,1)\n",
    "sims = []\n",
    "\n",
    "idxs = range(10)\n",
    "for k in idxs:\n",
    "    dec = decoder[mask][k]\n",
    "    pred = pred_decoder[mask][k]\n",
    "    dec /= dec.norm()\n",
    "    pred /= pred.norm()\n",
    "    sims.append(f'{cos_sims[mask][k].item():.2f}')\n",
    "    plt.plot(dec.cpu(), pred.cpu(),'.', label=f'{cos_sims[mask][k].item():.2f}')\n",
    "vec = np.arange(-0.15, 0.15, 0.01)\n",
    "plt.plot(vec, vec, 'k--')\n",
    "plt.legend(title='Cos Sims', prop={'size':7})\n",
    "plt.ylabel('Predicted decoder')\n",
    "plt.xlabel('Decoder')\n",
    "plt.title('Elementwise comparison')\n",
    "plt.xlim((-0.15,0.15))\n",
    "plt.ylim((-0.15, 0.15))\n",
    "\n",
    "\n",
    "plt.subplot(1,2,2)\n",
    "for k in idxs:\n",
    "    log_counts = torch.log10(act_gate_counts[mask][k] + 1e-1)\n",
    "    plt.hist(log_counts.cpu(), 50, histtype='step')\n",
    "plt.yscale('log')\n",
    "plt.ylabel('')\n",
    "plt.xlabel('Log10( Counts for Act > 0 and Gate = 1)', fontsize=12)\n",
    "plt.title('Distribution of counts')\n",
    "\n",
    "plt.suptitle('Med freq features')\n",
    "\n",
    "print(sims)"
   ]
  },
  {
   "cell_type": "code",
   "execution_count": null,
   "metadata": {},
   "outputs": [],
   "source": [
    "mask = cos_sims < 0.7\n",
    "\n",
    "plt.figure(figsize=(8,3.5), dpi=150, layout='tight')\n",
    "plt.subplot(1,2,1)\n",
    "sims = []\n",
    "\n",
    "idxs = range(8)\n",
    "for k in idxs:\n",
    "    dec = decoder[mask][k]\n",
    "    pred = pred_decoder[mask][k]\n",
    "    dec /= dec.norm()\n",
    "    pred /= pred.norm()\n",
    "    sims.append(f'{cos_sims[mask][k].item():.2f}')\n",
    "    plt.plot(dec.cpu(), pred.cpu(),'.', label=f'{cos_sims[mask][k].item():.2f}')\n",
    "vec = np.arange(-0.15, 0.15, 0.01)\n",
    "plt.plot(vec, vec, 'k--')\n",
    "plt.legend(title='Cos Sims', prop={'size':7})\n",
    "\n",
    "\n",
    "plt.subplot(1,2,2)\n",
    "for k in idxs:\n",
    "    log_counts = torch.log10(act_gate_counts[mask][k] + 1e-1)\n",
    "    plt.hist(log_counts.cpu(), 50, histtype='step')\n",
    "plt.yscale('log')\n",
    "\n",
    "plt.suptitle('Features with low cosine similarity')\n",
    "\n",
    "print(sims)"
   ]
  },
  {
   "cell_type": "code",
   "execution_count": null,
   "metadata": {},
   "outputs": [],
   "source": [
    "sing_prob.shape"
   ]
  },
  {
   "cell_type": "code",
   "execution_count": null,
   "metadata": {},
   "outputs": [],
   "source": [
    "prob_corr_log[0][:30]"
   ]
  },
  {
   "cell_type": "code",
   "execution_count": null,
   "metadata": {},
   "outputs": [],
   "source": [
    "prob_corr.topk()"
   ]
  },
  {
   "cell_type": "code",
   "execution_count": null,
   "metadata": {},
   "outputs": [],
   "source": [
    "x = pair_prob / sing_prob\n",
    "x = x - torch.eye(*x.shape).to('mps')\n",
    "px.imshow(x.cpu(), color_continuous_scale = 'RdBu', color_continuous_midpoint = 0)"
   ]
  },
  {
   "cell_type": "code",
   "execution_count": null,
   "metadata": {},
   "outputs": [],
   "source": [
    "x.topk(dim=1, k=3).indices[250:270]"
   ]
  },
  {
   "cell_type": "code",
   "execution_count": null,
   "metadata": {},
   "outputs": [],
   "source": [
    "sing_prob = (midcoder.act_counts / midcoder.counts).unsqueeze(1)\n",
    "pair_prob = midcoder.act_cov_counts / midcoder.counts\n",
    "\n",
    "sort_idxs = sparsity[feat_ids][sparsity_mask].argsort(descending=True)\n",
    "sing_prob = sing_prob[sparsity_mask][sort_idxs]\n",
    "pair_prob = pair_prob[sparsity_mask,:][:,sparsity_mask][sort_idxs,:][:,sort_idxs]\n",
    "\n",
    "sing_prob_var = sing_prob * (1 - sing_prob)\n",
    "prob_corr = (pair_prob - sing_prob @ sing_prob.T) / torch.sqrt(sing_prob_var @ sing_prob.T)\n",
    "px.imshow(prob_corr.cpu(), color_continuous_scale = 'RdBu', color_continuous_midpoint = 0, range_color=[-0.3,0.3])"
   ]
  },
  {
   "cell_type": "code",
   "execution_count": null,
   "metadata": {},
   "outputs": [],
   "source": []
  },
  {
   "cell_type": "code",
   "execution_count": null,
   "metadata": {},
   "outputs": [],
   "source": [
    "cos_sims = torch.nn.functional.cosine_similarity(decoder, pred_decoder, dim=1)\n",
    "\n",
    "pretrain_counts = midcoder.act_counts[sparsity_mask]\n",
    "\n",
    "plt.figure(figsize=(8,3.5), dpi=150, layout='tight')\n",
    "plt.subplot(1,2,1)\n",
    "plt.hist(cos_sims.cpu(), 500)\n",
    "plt.yscale('log')\n",
    "plt.xlabel('Cosine Similarity')\n",
    "plt.ylabel('Counts')\n",
    "plt.suptitle('Comparison of decoder and predicted decoder')\n",
    "\n",
    "plt.subplot(1,2,2)\n",
    "# plt.plot(sparsity[sparsity_mask], cos_sims.cpu(), '.', alpha=0.03)\n",
    "plt.plot(torch.arange(len(cos_sims)), cos_sims[sort_idxs].cpu(), '.', alpha=0.1)\n",
    "plt.xlim((-1,400))\n",
    "plt.xlabel('Pretrain Counts')\n",
    "plt.ylabel('Cosine Similarity')\n",
    "# plt.xscale('log')\n",
    "# plt.title('Comparison of decoder and predicted decoder')"
   ]
  },
  {
   "cell_type": "code",
   "execution_count": null,
   "metadata": {},
   "outputs": [],
   "source": [
    "plt.plot(torch.arange(len(sing_prob)), sing_prob[:,0].cpu(), '.')\n",
    "plt.yscale('log')"
   ]
  },
  {
   "cell_type": "code",
   "execution_count": null,
   "metadata": {},
   "outputs": [],
   "source": [
    "mask1 = sparsity[feat_ids][sparsity_mask] > -2\n",
    "mask2 = (sparsity[feat_ids][sparsity_mask] > -3.5) & (sparsity[feat_ids][sparsity_mask] < -3)\n",
    "num = 100\n",
    "\n",
    "dec1 = decoder[mask1]\n",
    "dec1 /= dec1.norm(dim=1, keepdim=True)\n",
    "dec2 = decoder[mask2][:num]\n",
    "dec2 /= dec2.norm(dim=1, keepdim=True)\n",
    "\n",
    "sims11 = einsum(dec1, dec1, \"f1 d, f2 d -> f1 f2\")\n",
    "sims12 = einsum(dec1, dec2, \"f1 d, f2 d -> f1 f2\")\n",
    "sims22 = einsum(dec2, dec2, \"f1 d, f2 d -> f1 f2\")\n",
    "\n",
    "sims11_nodiag = sims11 - torch.eye(*sims11.shape).to('mps')\n",
    "sims22_nodiag = sims22 - torch.eye(*sims22.shape).to('mps')\n",
    "print(sims11_nodiag.max(dim=0))\n",
    "print(sims12.max(dim=0))\n",
    "print(sims22_nodiag.max(dim=0))"
   ]
  },
  {
   "cell_type": "code",
   "execution_count": null,
   "metadata": {},
   "outputs": [],
   "source": [
    "mask1 = sparsity[feat_ids][sparsity_mask] > -2\n",
    "mask2 = (sparsity[feat_ids][sparsity_mask] > -3.5) & (sparsity[feat_ids][sparsity_mask] < -3)\n",
    "num = 100\n",
    "\n",
    "dec1 = pred_decoder[mask1]\n",
    "dec1 /= dec1.norm(dim=1, keepdim=True)\n",
    "dec2 = pred_decoder[mask2][:num]\n",
    "dec2 /= dec2.norm(dim=1, keepdim=True)\n",
    "\n",
    "sims11 = einsum(dec1, dec1, \"f1 d, f2 d -> f1 f2\")\n",
    "sims12 = einsum(dec1, dec2, \"f1 d, f2 d -> f1 f2\")\n",
    "sims22 = einsum(dec2, dec2, \"f1 d, f2 d -> f1 f2\")\n",
    "\n",
    "sims11_nodiag = sims11 - torch.eye(*sims11.shape).to('mps')\n",
    "sims22_nodiag = sims22 - torch.eye(*sims22.shape).to('mps')\n",
    "print(sims11_nodiag.max(dim=0))\n",
    "print(sims12.max(dim=0))\n",
    "print(sims22_nodiag.max(dim=0))"
   ]
  },
  {
   "cell_type": "markdown",
   "metadata": {},
   "source": [
    "# Decoder directions from gaussian noise"
   ]
  },
  {
   "cell_type": "code",
   "execution_count": null,
   "metadata": {},
   "outputs": [],
   "source": [
    "feat_ids = midcoder.feat_ids.cpu()\n",
    "sparsity_mask = sparsity[feat_ids] > -3.5\n",
    "act_freqs = midcoder.act_counts.detach() / midcoder.counts.detach()\n",
    "act_freqs, sort_idxs = act_freqs.sort(descending=True)"
   ]
  },
  {
   "cell_type": "code",
   "execution_count": null,
   "metadata": {},
   "outputs": [],
   "source": [
    "act_mean = midcoder.act_sum[sort_idxs].detach() / midcoder.act_counts[sort_idxs].detach()\n",
    "act_sq_mean = midcoder.act_sq_sum[sort_idxs].detach() / midcoder.act_counts[sort_idxs].detach()\n",
    "act_var = act_sq_mean - act_mean**2\n",
    "\n",
    "mid_vec = midcoder.W_mid[feat_ids][sort_idxs].detach()\n",
    "b_mid = midcoder.b_mid.detach()\n",
    "\n",
    "mid_mean = midcoder.pre_relu_sum.detach() / midcoder.counts.detach()\n",
    "mid_cov = midcoder.pre_relu_cov_sum.detach() / midcoder.counts.detach()\n",
    "mid_cov = mid_cov - mid_mean.unsqueeze(1) @ mid_mean.unsqueeze(0)\n",
    "mid_var = mid_cov.diag()\n",
    "mid_corr = mid_cov / torch.sqrt(mid_var.unsqueeze(1) @ mid_var.unsqueeze(0))"
   ]
  },
  {
   "cell_type": "markdown",
   "metadata": {},
   "source": [
    "## Assuming covariances are negligible"
   ]
  },
  {
   "cell_type": "code",
   "execution_count": null,
   "metadata": {},
   "outputs": [],
   "source": [
    "mid_vec.shape"
   ]
  },
  {
   "cell_type": "code",
   "execution_count": null,
   "metadata": {},
   "outputs": [],
   "source": [
    "noise_mean = b_mid.unsqueeze(0) + mid_mean.unsqueeze(0) - act_mean.unsqueeze(1) * mid_vec\n",
    "noise_var = mid_var.unsqueeze(0) - act_var.unsqueeze(1) * mid_vec**2"
   ]
  },
  {
   "cell_type": "code",
   "execution_count": null,
   "metadata": {},
   "outputs": [],
   "source": [
    "plt.plot(act_mean.cpu(), act_var.cpu(),'.', alpha=0.3)\n",
    "vec = torch.arange(0.1, 15, 0.01)\n",
    "plt.plot(vec, vec**2,'--', label='Exponential Dist.') #expectation for exponential\n",
    "plt.legend()\n",
    "plt.yscale('log')\n",
    "plt.xscale('log')"
   ]
  },
  {
   "cell_type": "code",
   "execution_count": null,
   "metadata": {},
   "outputs": [],
   "source": [
    "\n"
   ]
  },
  {
   "cell_type": "code",
   "execution_count": null,
   "metadata": {},
   "outputs": [],
   "source": [
    "exp_dist = torch.distributions.exponential.Exponential(0.1)\n",
    "gauss_dist = torch.distributions.normal.Normal(0, 1)\n",
    "\n"
   ]
  },
  {
   "cell_type": "markdown",
   "metadata": {},
   "source": [
    "## Check covariance structure of pre-relu values"
   ]
  },
  {
   "cell_type": "code",
   "execution_count": null,
   "metadata": {},
   "outputs": [],
   "source": [
    "px.imshow(mid_cov[:100,:100].cpu(), color_continuous_scale = 'RdBu', color_continuous_midpoint = 0)"
   ]
  },
  {
   "cell_type": "code",
   "execution_count": null,
   "metadata": {},
   "outputs": [],
   "source": [
    "weight_cov = midcoder.W_in.T  @ midcoder.W_in\n",
    "px.imshow(weight_cov[:100,:100].cpu(), color_continuous_scale = 'RdBu', color_continuous_midpoint = 0)"
   ]
  },
  {
   "cell_type": "markdown",
   "metadata": {},
   "source": [
    "# Numerology for sparsities"
   ]
  },
  {
   "cell_type": "code",
   "execution_count": null,
   "metadata": {},
   "outputs": [],
   "source": [
    "s = sparsity.sort(descending=True).values\n",
    "s = 10**(s)"
   ]
  },
  {
   "cell_type": "code",
   "execution_count": null,
   "metadata": {},
   "outputs": [],
   "source": [
    "s[None,:200,None].shape"
   ]
  },
  {
   "cell_type": "code",
   "execution_count": null,
   "metadata": {},
   "outputs": [],
   "source": [
    "pairs = s[:200,None] * s[None,:200]\n",
    "pairs = pairs.flatten()\n",
    "trips = s[:200,None,None] * s[None,:200,None] * s[None,None,:200]\n",
    "trips = trips.flatten()\n",
    "\n",
    "t = torch.cat((s[:200], pairs, trips)).sort(descending=True)"
   ]
  },
  {
   "cell_type": "code",
   "execution_count": null,
   "metadata": {},
   "outputs": [],
   "source": [
    "plt.plot(s)\n",
    "plt.plot(t[:25000])\n",
    "plt.yscale('log')\n"
   ]
  },
  {
   "cell_type": "code",
   "execution_count": null,
   "metadata": {},
   "outputs": [],
   "source": [
    "prod = s[:200].unsqueeze(0) * s[:200].unsqueeze(1)\n",
    "prod.flatten().sort().values"
   ]
  },
  {
   "cell_type": "markdown",
   "metadata": {},
   "source": [
    "# Decoder similarities"
   ]
  },
  {
   "cell_type": "code",
   "execution_count": null,
   "metadata": {},
   "outputs": [],
   "source": [
    "sort_ids = sparsity.argsort(descending=True)\n",
    "decoders = midcoder.W_dec[sort_ids]\n",
    "decoders /= decoders.norm(dim=1, keepdim=True)"
   ]
  },
  {
   "cell_type": "code",
   "execution_count": null,
   "metadata": {},
   "outputs": [],
   "source": [
    "id = 2000\n",
    "cos_sims = decoders[id] @ decoders.T\n",
    "\n",
    "plt.hist(cos_sims.cpu(), 100);\n",
    "plt.title(f'Id = {id}, log10(freq) = {sparsity[sort_idxs[id]]:.2f}')\n",
    "plt.yscale('log')"
   ]
  },
  {
   "cell_type": "code",
   "execution_count": null,
   "metadata": {},
   "outputs": [],
   "source": [
    "topk = cos_sims.abs().topk(k=30)\n",
    "topk"
   ]
  },
  {
   "cell_type": "code",
   "execution_count": null,
   "metadata": {},
   "outputs": [],
   "source": [
    "cos_sims2 = decoders[topk.indices] @ decoders[topk.indices].T\n",
    "px.imshow(cos_sims2.cpu(), color_continuous_scale = 'RdBu', range_color=[-1,1])\n"
   ]
  },
  {
   "cell_type": "code",
   "execution_count": null,
   "metadata": {},
   "outputs": [],
   "source": [
    "feat_ids = midcoder.feat_ids.cpu()\n",
    "feat_ids"
   ]
  },
  {
   "cell_type": "code",
   "execution_count": null,
   "metadata": {},
   "outputs": [],
   "source": [
    "feat_sort_ids = []\n",
    "for id in feat_ids:\n",
    "    feat_sort_ids.append((sort_ids==id).nonzero().item())"
   ]
  },
  {
   "cell_type": "code",
   "execution_count": null,
   "metadata": {},
   "outputs": [],
   "source": [
    "feat_sort_ids = torch.tensor(feat_sort_ids)\n",
    "feat_sort_ids"
   ]
  },
  {
   "cell_type": "code",
   "execution_count": null,
   "metadata": {},
   "outputs": [],
   "source": [
    "from bidict import bidict\n",
    "\n",
    "feat2sort_ids = bidict({})\n",
    "for feat_id in feat_ids:\n",
    "    feat_id = feat_id.item()\n",
    "    sort_id = (sort_ids==feat_id).nonzero().item()\n",
    "    feat2sort_ids[feat_id] = sort_id"
   ]
  },
  {
   "cell_type": "code",
   "execution_count": null,
   "metadata": {},
   "outputs": [],
   "source": [
    "saved_sort_ids = sorted(list(feat2sort_ids.values()))"
   ]
  },
  {
   "cell_type": "markdown",
   "metadata": {},
   "source": [
    "# Factorizing Decoders"
   ]
  },
  {
   "cell_type": "code",
   "execution_count": 8,
   "metadata": {},
   "outputs": [],
   "source": [
    "sort_ids = sparsity.argsort(descending=True)\n",
    "decoders = transcoder.W_dec[sort_ids].detach()\n",
    "decoders /= decoders.norm(dim=1, keepdim=True)\n",
    "decoders = decoders[:20000]"
   ]
  },
  {
   "cell_type": "code",
   "execution_count": null,
   "metadata": {},
   "outputs": [],
   "source": [
    "from factorizer import Factorizer, FactorizerConfig\n",
    "\n",
    "cfg = FactorizerConfig()\n",
    "cfg.theta = 0.2\n",
    "cfg.activation = 'sigmoid'\n",
    "decoder_param = 0.01\n",
    "cfg.factor_param = 1\n",
    "cfg.factors = 10000\n",
    "\n",
    "cfg.lr = 1e-3\n",
    "cfg.weight_decay = 1e-3\n",
    "cfg.batch_size = 2000\n",
    "cfg.epochs = 1000\n",
    "cfg.log = True\n",
    "cfg.device = 'cuda'\n",
    "\n",
    "factorizer = Factorizer(cfg, decoders)"
   ]
  },
  {
   "cell_type": "code",
   "execution_count": null,
   "metadata": {},
   "outputs": [],
   "source": [
    "plt.plot(sparsity[sort_ids])"
   ]
  },
  {
   "cell_type": "code",
   "execution_count": 13,
   "metadata": {},
   "outputs": [],
   "source": [
    "from factorizer import Factorizer, FactorizerConfig\n",
    "\n",
    "cfg = FactorizerConfig()\n",
    "cfg.theta = 0.3\n",
    "cfg.factor_param = 0.5\n",
    "cfg.factors = 10000\n",
    "\n",
    "cfg.batch_size = 1000\n",
    "cfg.epochs = 100\n",
    "cfg.log = False\n",
    "cfg.device = 'mps'\n",
    "\n",
    "factorizer = Factorizer(cfg, decoders)"
   ]
  },
  {
   "cell_type": "code",
   "execution_count": null,
   "metadata": {},
   "outputs": [],
   "source": [
    "factorizer.fit()"
   ]
  },
  {
   "cell_type": "code",
   "execution_count": 46,
   "metadata": {},
   "outputs": [],
   "source": [
    "path = '../data/factorizer_v1_020.pt'\n",
    "data = torch.load(path,  map_location = 'mps')\n",
    "factorizer.load_state_dict(data['weights'])\n",
    "factorizer.cfg = data['config']"
   ]
  },
  {
   "cell_type": "code",
   "execution_count": 41,
   "metadata": {},
   "outputs": [],
   "source": [
    "factors = factorizer.get_factors().detach()\n",
    "acts_orig = factorizer.decoders @ factors.T\n",
    "acts = factorizer.sim_activation(acts_orig) * acts_orig"
   ]
  },
  {
   "cell_type": "code",
   "execution_count": 43,
   "metadata": {},
   "outputs": [
    {
     "data": {
      "image/png": "[encoded data removed]",
      "text/plain": [
       "<Figure size 640x480 with 1 Axes>"
      ]
     },
     "metadata": {},
     "output_type": "display_data"
    }
   ],
   "source": [
    "i = 6820\n",
    "plt.hist(acts_orig[:,i].cpu(),100)\n",
    "plt.hist(acts[:,i].cpu(),100)\n",
    "plt.yscale('log')"
   ]
  },
  {
   "cell_type": "code",
   "execution_count": 31,
   "metadata": {},
   "outputs": [
    {
     "data": {
      "text/plain": [
       "tensor([3940, 4684, 6820, 7612, 8936], device='mps:0')"
      ]
     },
     "execution_count": 31,
     "metadata": {},
     "output_type": "execute_result"
    }
   ],
   "source": [
    "feat_ids = torch.arange(acts.shape[1]).to('mps')[acts[i].abs() > 0.1]\n",
    "feat_ids"
   ]
  },
  {
   "cell_type": "code",
   "execution_count": 32,
   "metadata": {},
   "outputs": [
    {
     "data": {
      "text/plain": [
       "tensor([[ 1.0000,  0.0726,  0.0880, -0.0964, -0.0823],\n",
       "        [ 0.0726,  1.0000,  0.0899, -0.0580, -0.0761],\n",
       "        [ 0.0880,  0.0899,  1.0000, -0.0848, -0.0818],\n",
       "        [-0.0964, -0.0580, -0.0848,  1.0000,  0.0588],\n",
       "        [-0.0823, -0.0761, -0.0818,  0.0588,  1.0000]], device='mps:0')"
      ]
     },
     "execution_count": 32,
     "metadata": {},
     "output_type": "execute_result"
    }
   ],
   "source": [
    "x = factors[feat_ids]\n",
    "x @ x.T"
   ]
  },
  {
   "cell_type": "code",
   "execution_count": 33,
   "metadata": {},
   "outputs": [
    {
     "data": {
      "text/plain": [
       "[<matplotlib.lines.Line2D at 0x2e585f800>]"
      ]
     },
     "execution_count": 33,
     "metadata": {},
     "output_type": "execute_result"
    },
    {
     "data": {
      "image/png": "[encoded data removed]",
      "text/plain": [
       "<Figure size 640x480 with 1 Axes>"
      ]
     },
     "metadata": {},
     "output_type": "display_data"
    }
   ],
   "source": [
    "x = acts[i][feat_ids] @ factors[feat_ids]\n",
    "y = decoders[i]\n",
    "plt.plot(x.cpu(), y.cpu(), '.', alpha=0.3)\n",
    "vec = np.arange(-0.15, 0.15, 0.01)\n",
    "plt.plot(vec, vec, 'k--')"
   ]
  },
  {
   "cell_type": "code",
   "execution_count": 34,
   "metadata": {},
   "outputs": [
    {
     "data": {
      "text/plain": [
       "tensor(0.5861, device='mps:0')"
      ]
     },
     "execution_count": 34,
     "metadata": {},
     "output_type": "execute_result"
    }
   ],
   "source": [
    "((x-y)**2).sum() / (y**2).sum()"
   ]
  },
  {
   "cell_type": "code",
   "execution_count": 35,
   "metadata": {},
   "outputs": [
    {
     "data": {
      "text/plain": [
       "tensor([[1.0000, 0.6517],\n",
       "        [0.6517, 1.0000]], device='mps:0')"
      ]
     },
     "execution_count": 35,
     "metadata": {},
     "output_type": "execute_result"
    }
   ],
   "source": [
    "torch.corrcoef(torch.stack([x,y]))"
   ]
  },
  {
   "cell_type": "code",
   "execution_count": 50,
   "metadata": {},
   "outputs": [],
   "source": [
    "factors = factorizer.get_factors().detach()\n",
    "acts_orig = factorizer.decoders @ factors.T\n",
    "acts = factorizer.sim_activation(acts_orig) * acts_orig\n",
    "\n",
    "factor_active = acts_orig.abs() > factorizer.cfg.theta\n",
    "factor_num_acts = factor_active.sum(dim=0)"
   ]
  },
  {
   "cell_type": "code",
   "execution_count": 49,
   "metadata": {},
   "outputs": [
    {
     "data": {
      "image/png": "[encoded data removed]",
      "text/plain": [
       "<Figure size 640x480 with 1 Axes>"
      ]
     },
     "metadata": {},
     "output_type": "display_data"
    }
   ],
   "source": [
    "plt.hist(factor_num_acts.cpu(),100)\n",
    "plt.yscale('log')"
   ]
  },
  {
   "cell_type": "code",
   "execution_count": 58,
   "metadata": {},
   "outputs": [
    {
     "data": {
      "text/plain": [
       "(array([162.,   0.,   0.,   0.,   0.,   0.,   0.,   0.,   0.,   0.,   0.,\n",
       "          0.,   0.,   0.,   0.,   0.,   0.,   0.,   0.,   0.,   0.,   0.,\n",
       "          0.,   0.,   0.,   0.,   0.,   0.,   0.,   0.,   0.,   0.,   0.,\n",
       "          0.,   0.,  11.,  24.,  36.,  42.,  38.,  30.,  48.,  50.,  66.,\n",
       "         73.,  72.,  75.,  92., 103., 111., 124., 128., 106., 149., 165.,\n",
       "        110., 144., 188., 171., 189., 166., 198., 204., 186., 221., 306.,\n",
       "        374., 487., 509., 514., 503., 509., 496., 506., 430., 405., 334.,\n",
       "        262., 242., 169., 138.,  94.,  85.,  58.,  32.,  19.,  15.,   9.,\n",
       "          8.,   2.,   2.,   1.,   2.,   0.,   1.,   2.,   2.,   1.,   0.,\n",
       "          1.]),\n",
       " array([-6.        , -5.93714237, -5.87428474, -5.81142759, -5.74856997,\n",
       "        -5.68571234, -5.62285471, -5.55999756, -5.49713993, -5.4342823 ,\n",
       "        -5.37142467, -5.30856752, -5.2457099 , -5.18285227, -5.11999464,\n",
       "        -5.05713749, -4.99427986, -4.93142223, -4.86856461, -4.80570698,\n",
       "        -4.74284983, -4.6799922 , -4.61713457, -4.55427694, -4.49141979,\n",
       "        -4.42856216, -4.36570454, -4.30284691, -4.23998976, -4.17713213,\n",
       "        -4.1142745 , -4.05141687, -3.98855948, -3.92570186, -3.86284447,\n",
       "        -3.79998684, -3.73712945, -3.67427182, -3.61141443, -3.5485568 ,\n",
       "        -3.48569942, -3.42284179, -3.3599844 , -3.29712677, -3.23426938,\n",
       "        -3.17141175, -3.10855436, -3.04569674, -2.98283911, -2.91998172,\n",
       "        -2.85712409, -2.7942667 , -2.73140907, -2.66855168, -2.60569406,\n",
       "        -2.54283667, -2.47997904, -2.41712165, -2.35426402, -2.29140663,\n",
       "        -2.228549  , -2.16569161, -2.10283399, -2.0399766 , -1.97711897,\n",
       "        -1.91426146, -1.85140395, -1.78854644, -1.72568893, -1.66283143,\n",
       "        -1.59997392, -1.53711641, -1.4742589 , -1.41140127, -1.34854376,\n",
       "        -1.28568625, -1.22282875, -1.15997124, -1.09711373, -1.03425622,\n",
       "        -0.97139871, -0.9085412 , -0.84568369, -0.78282619, -0.71996868,\n",
       "        -0.65711111, -0.5942536 , -0.53139609, -0.46853858, -0.40568107,\n",
       "        -0.34282357, -0.27996603, -0.21710852, -0.15425101, -0.09139349,\n",
       "        -0.02853597,  0.03432155,  0.09717906,  0.16003658,  0.2228941 ,\n",
       "         0.28575161]),\n",
       " <BarContainer object of 100 artists>)"
      ]
     },
     "execution_count": 58,
     "metadata": {},
     "output_type": "execute_result"
    },
    {
     "data": {
      "image/png": "[encoded data removed]",
      "text/plain": [
       "<Figure size 640x480 with 1 Axes>"
      ]
     },
     "metadata": {},
     "output_type": "display_data"
    }
   ],
   "source": [
    "factor_sparsity = torch.log10(((10**sparsity[sort_ids][:20000]).to('mps')[:,None]  * factor_active.float()).sum(dim=0) + 1e-6)\n",
    "plt.hist(factor_sparsity.cpu(),100)"
   ]
  },
  {
   "cell_type": "code",
   "execution_count": 57,
   "metadata": {},
   "outputs": [
    {
     "data": {
      "text/plain": [
       "tensor([-1.8735, -3.4058, -2.5945,  ..., -1.9919, -1.1228, -1.0792],\n",
       "       device='mps:0')"
      ]
     },
     "execution_count": 57,
     "metadata": {},
     "output_type": "execute_result"
    }
   ],
   "source": [
    "factor_sparsity"
   ]
  },
  {
   "cell_type": "code",
   "execution_count": 55,
   "metadata": {},
   "outputs": [
    {
     "data": {
      "text/plain": [
       "tensor([-3.5082, -3.2793, -3.0647,  ..., -3.6269, -2.8037, -3.1756])"
      ]
     },
     "execution_count": 55,
     "metadata": {},
     "output_type": "execute_result"
    }
   ],
   "source": [
    "sparsity"
   ]
  },
  {
   "cell_type": "code",
   "execution_count": null,
   "metadata": {},
   "outputs": [],
   "source": []
  }
 ],
 "metadata": {
  "kernelspec": {
   "display_name": "Python 3",
   "language": "python",
   "name": "python3"
  },
  "language_info": {
   "codemirror_mode": {
    "name": "ipython",
    "version": 3
   },
   "file_extension": ".py",
   "mimetype": "text/x-python",
   "name": "python",
   "nbconvert_exporter": "python",
   "pygments_lexer": "ipython3",
   "version": "3.12.1"
  }
 },
 "nbformat": 4,
 "nbformat_minor": 2
}
